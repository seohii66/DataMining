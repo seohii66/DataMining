{
  "nbformat": 4,
  "nbformat_minor": 0,
  "metadata": {
    "colab": {
      "name": "4장 분석을 위한 데이터 클리닝과 준비.ipynb",
      "provenance": [],
      "collapsed_sections": [],
      "mount_file_id": "1UFCWW1VpOMfHjrPi8KRkPAkbiUOCVSae",
      "authorship_tag": "ABX9TyPTPwV2qyaQbmhcZ462/uMT",
      "include_colab_link": true
    },
    "kernelspec": {
      "name": "python3",
      "display_name": "Python 3"
    },
    "language_info": {
      "name": "python"
    }
  },
  "cells": [
    {
      "cell_type": "markdown",
      "metadata": {
        "id": "view-in-github",
        "colab_type": "text"
      },
      "source": [
        "<a href=\"https://colab.research.google.com/github/seohii66/DataMining/blob/main/4%EC%9E%A5_%EB%B6%84%EC%84%9D%EC%9D%84_%EC%9C%84%ED%95%9C_%EB%8D%B0%EC%9D%B4%ED%84%B0_%ED%81%B4%EB%A6%AC%EB%8B%9D%EA%B3%BC_%EC%A4%80%EB%B9%84.ipynb\" target=\"_parent\"><img src=\"https://colab.research.google.com/assets/colab-badge.svg\" alt=\"Open In Colab\"/></a>"
      ]
    },
    {
      "cell_type": "code",
      "source": [
        "from google.colab import drive\n",
        "drive.mount('/content/drive')"
      ],
      "metadata": {
        "colab": {
          "base_uri": "https://localhost:8080/"
        },
        "id": "yIcaTiKUnytz",
        "outputId": "85d22ea5-3adf-46ce-af00-1f13eb73ee26"
      },
      "execution_count": null,
      "outputs": [
        {
          "output_type": "stream",
          "name": "stdout",
          "text": [
            "Drive already mounted at /content/drive; to attempt to forcibly remount, call drive.mount(\"/content/drive\", force_remount=True).\n"
          ]
        }
      ]
    },
    {
      "cell_type": "markdown",
      "source": [
        "## 특징 선택, 차원감소"
      ],
      "metadata": {
        "id": "dzhXtokIm0Pk"
      }
    },
    {
      "cell_type": "markdown",
      "source": [
        "### scikit-learn 변환 API\n",
        "#### 데이터 변환의 단계\n",
        " 1. 모듈을 임포트한다\n",
        "\n",
        " 2. 변환 객체를 설명\n",
        "\n",
        " 3. 훈련데이터에 입력시키기 위해 모델을 적합시킨다\n",
        "\n",
        " 4. 새로운 테스트 데이터를 변환시킨다."
      ],
      "metadata": {
        "id": "9_O1wNNEnBui"
      }
    },
    {
      "cell_type": "markdown",
      "source": [
        "### 입력 데이터 클리닝\n",
        " 결측값 또는 오염된 값은 잘못된 결론을 내리거나 인사이트를 놓치게 할 수 있다.\n"
      ],
      "metadata": {
        "id": "0YYTx-frnUzD"
      }
    },
    {
      "cell_type": "markdown",
      "source": [
        "#### * 결측값\n",
        " "
      ],
      "metadata": {
        "id": "QXcsV8dznkBb"
      }
    },
    {
      "cell_type": "code",
      "source": [
        "# 결측값을 갖는 iris 데이터셋 로딩하기\n",
        "import pandas as pd\n",
        "df = pd.read_csv('/content/drive/MyDrive/dmdata/iris_missing_values.csv')\n",
        "df.index.name = \"record\"\n",
        "print(df.head())"
      ],
      "metadata": {
        "colab": {
          "base_uri": "https://localhost:8080/"
        },
        "id": "H4zhf1pNnBkj",
        "outputId": "06248400-be9e-41b2-a0b6-b7e2fccaae12"
      },
      "execution_count": null,
      "outputs": [
        {
          "output_type": "stream",
          "name": "stdout",
          "text": [
            "        sepal length in cm  sepal width in cm  petal length in cm  \\\n",
            "record                                                              \n",
            "0                      NaN                3.5                 1.4   \n",
            "1                      4.9                3.0                 1.4   \n",
            "2                      NaN                3.2                 1.3   \n",
            "3                      4.6                3.1                 1.5   \n",
            "4                      5.0                3.6                 1.4   \n",
            "\n",
            "        petal width in cm species  \n",
            "record                             \n",
            "0                     0.2  setosa  \n",
            "1                     0.2  setosa  \n",
            "2                     0.2  setosa  \n",
            "3                     0.2  setosa  \n",
            "4                     0.2  setosa  \n"
          ]
        }
      ]
    },
    {
      "cell_type": "markdown",
      "source": [
        " => pandas는 데이터프레임의 결측값을 NaN으로 채운다"
      ],
      "metadata": {
        "id": "6rQ-pA2poIrz"
      }
    },
    {
      "cell_type": "markdown",
      "source": [
        "##### - 결측값 찾기와 제거하기\n",
        "데이터가 데이터프레임에 로딩되면 .isnull() 기법을 통해 모든 널값을 찾을 수 있다."
      ],
      "metadata": {
        "id": "PAydBCCnoO6y"
      }
    },
    {
      "cell_type": "code",
      "execution_count": null,
      "metadata": {
        "colab": {
          "base_uri": "https://localhost:8080/"
        },
        "id": "7PQxf5eElKV2",
        "outputId": "e214e35e-4fc8-49e7-98c3-48c6471a6982"
      },
      "outputs": [
        {
          "output_type": "execute_result",
          "data": {
            "text/plain": [
              "record\n",
              "0       True\n",
              "1      False\n",
              "2       True\n",
              "3      False\n",
              "4      False\n",
              "       ...  \n",
              "145    False\n",
              "146    False\n",
              "147    False\n",
              "148    False\n",
              "149    False\n",
              "Name: sepal length in cm, Length: 150, dtype: bool"
            ]
          },
          "metadata": {},
          "execution_count": 6
        }
      ],
      "source": [
        "# NaN에 대해 각 데이터의 참/거짓을 얻기\n",
        "df['sepal length in cm'].isnull()\n"
      ]
    },
    {
      "cell_type": "code",
      "source": [
        "# 열에서 결측값이 있는지 점검\n",
        "print(df['sepal length in cm'].isnull().values.any())"
      ],
      "metadata": {
        "colab": {
          "base_uri": "https://localhost:8080/"
        },
        "id": "NecfBt6colf2",
        "outputId": "cc8ef3ca-0161-4db4-93bc-7a58e0ca8cb6"
      },
      "execution_count": null,
      "outputs": [
        {
          "output_type": "stream",
          "name": "stdout",
          "text": [
            "True\n"
          ]
        }
      ]
    },
    {
      "cell_type": "code",
      "source": [
        "# 열에서 결측값의 수 확인\n",
        "print(df['sepal length in cm'].isnull().values.sum())"
      ],
      "metadata": {
        "colab": {
          "base_uri": "https://localhost:8080/"
        },
        "id": "2tpk0EilotSE",
        "outputId": "079d5513-41d9-4e71-9307-84ae57fc3360"
      },
      "execution_count": null,
      "outputs": [
        {
          "output_type": "stream",
          "name": "stdout",
          "text": [
            "6\n"
          ]
        }
      ]
    },
    {
      "cell_type": "code",
      "source": [
        "# 결측값은 원하는 값으로 대체 가능하다\n",
        "# 결측값을 새로운 값으로 채우고, 새로운 df_example 데이터 프레임에 저장\n",
        "df_example = df['sepal length in cm'].fillna('example')\n",
        "print(df_example.head())"
      ],
      "metadata": {
        "colab": {
          "base_uri": "https://localhost:8080/"
        },
        "id": "q7JRg4SJo0LT",
        "outputId": "46caa489-517d-46b5-9bc6-5936ca195fba"
      },
      "execution_count": null,
      "outputs": [
        {
          "output_type": "stream",
          "name": "stdout",
          "text": [
            "record\n",
            "0    example\n",
            "1        4.9\n",
            "2    example\n",
            "3        4.6\n",
            "4        5.0\n",
            "Name: sepal length in cm, dtype: object\n"
          ]
        }
      ]
    },
    {
      "cell_type": "code",
      "source": [
        "# 교체하기를 원하지 않는 결측값의 행이나 열을 쉽게 제거가능하다\n",
        "# 결측값이 있는 행 제거\n",
        "df_dropped = df.dropna(axis = 0)\n",
        "print(df_dropped.head())"
      ],
      "metadata": {
        "colab": {
          "base_uri": "https://localhost:8080/"
        },
        "id": "fgSM7Px8pM8R",
        "outputId": "382fbfbc-35a1-48fe-a8ed-47661cf1852c"
      },
      "execution_count": null,
      "outputs": [
        {
          "output_type": "stream",
          "name": "stdout",
          "text": [
            "        sepal length in cm  sepal width in cm  petal length in cm  \\\n",
            "record                                                              \n",
            "1                      4.9                3.0                 1.4   \n",
            "3                      4.6                3.1                 1.5   \n",
            "4                      5.0                3.6                 1.4   \n",
            "6                      4.6                3.4                 1.4   \n",
            "7                      5.0                3.4                 1.5   \n",
            "\n",
            "        petal width in cm species  \n",
            "record                             \n",
            "1                     0.2  setosa  \n",
            "3                     0.2  setosa  \n",
            "4                     0.2  setosa  \n",
            "6                     0.3  setosa  \n",
            "7                     0.2  setosa  \n"
          ]
        }
      ]
    },
    {
      "cell_type": "code",
      "source": [
        "# 결측값이 있는 열 제거\n",
        "df_dropped = df.dropna(axis = 1)\n",
        "print(df_dropped.head())"
      ],
      "metadata": {
        "colab": {
          "base_uri": "https://localhost:8080/"
        },
        "id": "dMdJm20npzU8",
        "outputId": "cef3b01b-b6ca-48de-e265-6250eb38a990"
      },
      "execution_count": null,
      "outputs": [
        {
          "output_type": "stream",
          "name": "stdout",
          "text": [
            "Empty DataFrame\n",
            "Columns: []\n",
            "Index: [0, 1, 2, 3, 4]\n"
          ]
        }
      ]
    },
    {
      "cell_type": "markdown",
      "source": [
        "##### - 결측값을 대체하기 위한 임퓨팅\n",
        "결측값이 띄엄띄엄 있는 경우, 빈셀의 대체 값을 예측가능하다\n",
        "-> 예측하는 수학적인 장치 : \"임퓨터\"\n",
        "\n",
        "\n",
        "- missing_values : 데이터에서 결측값의 형태를 가리킨다\n",
        "- stategy : 임퓨트 기법을 의미 (선택은 평균, 중앙값, 최빈값, 상수 중 하나)\n",
        "      - strategy = constant 인 경우, 상수를 정하기 위해 fill_value 옵션 사용가능\n"
      ],
      "metadata": {
        "id": "5vFfEw0PqLf6"
      }
    },
    {
      "cell_type": "code",
      "source": [
        "# scikit-learn에서 임퓨터 모듈을 import하고 임퓨터 객체 초기화\n",
        "import numpy as np\n",
        "from sklearn.impute import SimpleImputer\n",
        "imputer = SimpleImputer(missing_values = np.nan, strategy = 'mean')"
      ],
      "metadata": {
        "id": "ZpUAvaoPp7pW"
      },
      "execution_count": null,
      "outputs": []
    },
    {
      "cell_type": "code",
      "source": [
        "# 임퓨트할 열 정의\n",
        "cols = ['sepal length in cm',\n",
        "        'sepal width in cm',\n",
        "        'petal length in cm',\n",
        "        'petal width in cm',]"
      ],
      "metadata": {
        "id": "9qsLxnDKsxmH"
      },
      "execution_count": null,
      "outputs": []
    },
    {
      "cell_type": "code",
      "source": [
        "# 임퓨터를 적합시키고 데이터를 변환한 뒤 df_new에 저장\n",
        "out_imp = imputer.fit_transform(df[cols])\n",
        "\n",
        "df_new = pd.DataFrame(data = out_imp, columns = cols)\n",
        "df_new = pd.concat([df_new, df[['species']]], axis = 1)\n",
        "\n",
        "print(df_new.head())"
      ],
      "metadata": {
        "colab": {
          "base_uri": "https://localhost:8080/"
        },
        "id": "qVH47HYYtGF7",
        "outputId": "613a667e-431c-4f53-85d7-0d38da3b5cb3"
      },
      "execution_count": null,
      "outputs": [
        {
          "output_type": "stream",
          "name": "stdout",
          "text": [
            "   sepal length in cm  sepal width in cm  petal length in cm  \\\n",
            "0            5.870139                3.5                 1.4   \n",
            "1            4.900000                3.0                 1.4   \n",
            "2            5.870139                3.2                 1.3   \n",
            "3            4.600000                3.1                 1.5   \n",
            "4            5.000000                3.6                 1.4   \n",
            "\n",
            "   petal width in cm species  \n",
            "0                0.2  setosa  \n",
            "1                0.2  setosa  \n",
            "2                0.2  setosa  \n",
            "3                0.2  setosa  \n",
            "4                0.2  setosa  \n"
          ]
        }
      ]
    },
    {
      "cell_type": "markdown",
      "source": [
        "=> record 0,2는 imputing된 값을 갖고, 그 값은 sepal length 열의 평균이다"
      ],
      "metadata": {
        "id": "C2_0rq1StwS3"
      }
    },
    {
      "cell_type": "markdown",
      "source": [
        "### * 특징 스케일링\n",
        "상수를 곱해도 성질이 바뀌지 않는 경우, 그 수학적 성질은 '스케일 불변'으로 간주된다\n",
        "\n",
        "* 스케일링은 스케일 불변이 아닌 변환과 학습 알고리즘에 대해 중요\n",
        "- 스케일 불변이 아닌 알고리즘 \n",
        "      - 주요 요소 분석 PCA\n",
        "      - 패널티 회귀 penalized regression\n",
        "\n",
        "      -> 큰 값들이 알고리즘 내에서 매개변수 공간을 독점하게 되고 그 결과, 몇몇 특징들이 데이터 마이닝의 결과에 과도한 영향을 미치게 된다\n",
        "\n",
        "\n",
        "\n",
        "==> 해결방법 ) 각 특징을 **비슷한 스케일**로 적용하는 것 , 후에는 **분산과 편향** 에 집중\n",
        "\n",
        "      - 분산과 편향 : 데이터 분포의 성질\n",
        "      - 스케일은 임의의 값이지만 분포는 그렇지 않다\n",
        "\n"
      ],
      "metadata": {
        "id": "iqrR0jlIt20V"
      }
    },
    {
      "cell_type": "code",
      "source": [
        "# iris 데이터 불러오기\n",
        "df = pd.read_csv('/content/drive/MyDrive/dmdata/iris.csv')\n",
        "df.index.name = \"record\""
      ],
      "metadata": {
        "id": "I-UrTDf0tv3F"
      },
      "execution_count": null,
      "outputs": []
    },
    {
      "cell_type": "code",
      "source": [
        "# 스케일링할 열 정의\n",
        "cols = ['sepal length in cm', \n",
        "        'sepal width in cm',\n",
        "        'petal length in cm',\n",
        "        'petal width in cm',]"
      ],
      "metadata": {
        "id": "GZwc6teVtaYL"
      },
      "execution_count": null,
      "outputs": []
    },
    {
      "cell_type": "markdown",
      "source": [
        "#### - 정규화 normalization\n",
        "모든 값이 0과 1사이( 혹은 -1과 1 사이) 에 위치하도록 각 특징 공간을 rescale하는 것이다\n",
        "\n",
        "가장 흔한 방법 : MinMaxScaler()함수의 루틴 이용\n",
        "\n",
        "\n",
        "- 이 변환을 이상치로부터 보호할 수 있는 방법은 없으며, *이상치는 정규화하기 전에 제거*해야한다 \n",
        " - 그렇지 않으면, 합당한 데이터들이 0-1 전체의 범위에 적절하게 펼쳐지지 못하고 유용한 데이터는 더 적은 범위로 모이게 됨\n",
        "\n",
        "\n"
      ],
      "metadata": {
        "id": "C9OC5b_dvqkV"
      }
    },
    {
      "cell_type": "code",
      "source": [
        "# 모듈을 로딩하고 객체 초기화\n",
        "from sklearn.preprocessing import MinMaxScaler\n",
        "scaler = MinMaxScaler()\n"
      ],
      "metadata": {
        "id": "RpQSCDJtvU1X"
      },
      "execution_count": null,
      "outputs": []
    },
    {
      "cell_type": "code",
      "source": [
        "# 데이터를 정규화하고 out_scaled numpy 행렬에 저장\n",
        "out_scaled = scaler.fit_transform(df[cols])"
      ],
      "metadata": {
        "id": "1TY5zEGWwPAO"
      },
      "execution_count": null,
      "outputs": []
    },
    {
      "cell_type": "markdown",
      "source": [
        "#### - 표준화 standardization\n",
        "같은 스케일 상의 각 특징 공간 내에서 변동을 위치시키기 위해 사용\n",
        "\n",
        "데이터를 단위 분산에 대해 펼치고 0을 중간에 맞춘다\n",
        " - 다른 값이 고급 표준화에 대해 선택될 수도 있지만 보통 평균 = 0, 분산 = 1이 가장 흔하다"
      ],
      "metadata": {
        "id": "xqz-hJvSwfwz"
      }
    },
    {
      "cell_type": "code",
      "source": [
        "# 모듈을 로딩하고 객체 초기화\n",
        "from sklearn.preprocessing import StandardScaler\n",
        "scaler = StandardScaler()\n"
      ],
      "metadata": {
        "id": "W4KtxzWcwcWu"
      },
      "execution_count": null,
      "outputs": []
    },
    {
      "cell_type": "code",
      "source": [
        "# 데이터를 표준화하고 out_scaled numpy 행렬에 저장\n",
        "out_scaled = scaler.fit_transform(df[cols])"
      ],
      "metadata": {
        "id": "Z7SQdeDXw_kb"
      },
      "execution_count": null,
      "outputs": []
    },
    {
      "cell_type": "markdown",
      "source": [
        "### * 카테고리 데이터 처리\n",
        "- one-hot 원핫 인코딩 ( 기본적인 순서적 인코딩 )\n",
        "  : 순서적 혹은 명목적 변수에 모두 사용된다\n",
        "\n",
        "- 레이블 인코딩 \n",
        ": 카테고리 타깃 변수를 간단한 단일 단계로 유용한 것으로 바꿔줌"
      ],
      "metadata": {
        "id": "6UKO9u7axM9q"
      }
    },
    {
      "cell_type": "code",
      "source": [
        "# long_jump 데이터 불러오기\n",
        "df = pd.read_csv(\"/content/drive/MyDrive/dmdata/long_jump.csv\")\n",
        "df.set_index('Person',inplace = True)"
      ],
      "metadata": {
        "id": "CnIhwQISxICo"
      },
      "execution_count": null,
      "outputs": []
    },
    {
      "cell_type": "markdown",
      "source": [
        "#### 순서적 인코딩\n",
        " 순서적 변수 : 순서가 있다\n",
        "\n",
        " 큰 값 = 실제로 큰 것을 의미"
      ],
      "metadata": {
        "id": "buoa14tVx2Wp"
      }
    },
    {
      "cell_type": "code",
      "source": [
        "# 카테고리 열에 필터 적용\n",
        "cats = ['Jersey Size', 'Shoe Size']\n",
        "print(df[cats])"
      ],
      "metadata": {
        "colab": {
          "base_uri": "https://localhost:8080/"
        },
        "id": "Pi3wQpXlxwNd",
        "outputId": "77e177b8-72d9-49ac-a6fe-e765ce23eadf"
      },
      "execution_count": null,
      "outputs": [
        {
          "output_type": "stream",
          "name": "stdout",
          "text": [
            "        Jersey Size  Shoe Size\n",
            "Person                        \n",
            "Thomas        small          7\n",
            "Jane         medium         10\n",
            "Vaughn        large         12\n",
            "Vera         medium          9\n",
            "Vincent       large         12\n",
            "Lei-Ann       small          7\n"
          ]
        }
      ]
    },
    {
      "cell_type": "markdown",
      "source": [
        "- 항상 적절한 모듈을 임포트하고 인코더 객체를 예시하는 것부터 시작한다.\n",
        "- 다음으로 입력 데이터에 객체를 적합시키고\n",
        "- 한번에 .fit_transform()기법으로 변환시킨다.\n",
        "- 마지막으로 새로운 카테고리와 결과 행렬을 .categories_ 와 out_enc로 출력"
      ],
      "metadata": {
        "id": "GEk0KSQ4yIdB"
      }
    },
    {
      "cell_type": "code",
      "source": [
        "# 모듈을 import하고 enc객체 초기화\n",
        "from sklearn.preprocessing import OrdinalEncoder\n",
        "enc = OrdinalEncoder()\n"
      ],
      "metadata": {
        "id": "j0tjoyHGyEwZ"
      },
      "execution_count": null,
      "outputs": []
    },
    {
      "cell_type": "code",
      "source": [
        "# 한 번에 객체를 적합 및 변환하고 카테고리 출력\n",
        "out_enc = enc.fit_transform(df[cats])\n",
        "print('identified categories:')\n",
        "print(enc.categories_)"
      ],
      "metadata": {
        "colab": {
          "base_uri": "https://localhost:8080/"
        },
        "id": "iyqxy5ieynPE",
        "outputId": "a89da63b-70ee-4bbe-88f8-2a1796319940"
      },
      "execution_count": null,
      "outputs": [
        {
          "output_type": "stream",
          "name": "stdout",
          "text": [
            "identified categories:\n",
            "[array(['large', 'medium', 'small'], dtype=object), array([ 7,  9, 10, 12])]\n"
          ]
        }
      ]
    },
    {
      "cell_type": "code",
      "source": [
        "print('encoded data:')\n",
        "print(out_enc)"
      ],
      "metadata": {
        "colab": {
          "base_uri": "https://localhost:8080/"
        },
        "id": "eFI9-KUkytsV",
        "outputId": "7a49ad32-bd88-47ad-8739-ec33af50c120"
      },
      "execution_count": null,
      "outputs": [
        {
          "output_type": "stream",
          "name": "stdout",
          "text": [
            "encoded data:\n",
            "[[2. 0.]\n",
            " [1. 2.]\n",
            " [0. 3.]\n",
            " [1. 1.]\n",
            " [0. 3.]\n",
            " [2. 0.]]\n"
          ]
        }
      ]
    },
    {
      "cell_type": "code",
      "source": [
        "# 원래 데이터프레임에 카테고리 특징 다시 쓰기\n",
        "df[cats] = out_enc\n",
        "print(df.head())"
      ],
      "metadata": {
        "colab": {
          "base_uri": "https://localhost:8080/"
        },
        "id": "nG7BsdXCy9cx",
        "outputId": "daecfa59-494c-4668-eed6-6e73e236683d"
      },
      "execution_count": null,
      "outputs": [
        {
          "output_type": "stream",
          "name": "stdout",
          "text": [
            "         Age  Height  Weight  Training Hours/week Jersey Color  Jersey Size  \\\n",
            "Person                                                                        \n",
            "Thomas    12    57.5    73.4                  6.5         blue          2.0   \n",
            "Jane      13    65.5    85.3                  8.9        green          1.0   \n",
            "Vaughn    17    71.9   125.9                  1.1        green          0.0   \n",
            "Vera      14    65.3   100.5                  7.9          red          1.0   \n",
            "Vincent   18    70.1   110.7                 10.5         blue          0.0   \n",
            "\n",
            "         Shoe Size  Long Jump  \n",
            "Person                         \n",
            "Thomas         0.0       19.2  \n",
            "Jane           2.0       25.1  \n",
            "Vaughn         3.0       14.3  \n",
            "Vera           1.0       18.3  \n",
            "Vincent        3.0       21.1  \n"
          ]
        }
      ]
    },
    {
      "cell_type": "markdown",
      "source": [
        "#### One-hot 인코딩 \n",
        "원핫 기법은 바이너리 기법을 사용하는데에서 출발\n",
        "- 각 기계의 가능한 상태를 하나의 플래그로 정의하며 현재의 상태와 맞는 플래그 = 1, 나머지 = 0\n",
        "\n",
        "- 플래그 ( 새로운 특징 ) = 원래 특징 열의 각 가능한 값에 대해 정의되고 ,\n",
        "\n",
        " 레코드가 그 상태에 있으면 1, 나머지 플래그들은 0\n",
        "\n",
        "- 단점 ) 소스에서 가용하지 않은 새로운 상태를 외삽extrapolate하는 것이 불가능"
      ],
      "metadata": {
        "id": "KaC3RaQHzPUB"
      }
    },
    {
      "cell_type": "code",
      "source": [
        "# 모듈을 임포트하고 enc 객체 초기화\n",
        "from sklearn.preprocessing import OneHotEncoder\n",
        "enc = OneHotEncoder(sparse = False)"
      ],
      "metadata": {
        "id": "hHChA145zJhz"
      },
      "execution_count": null,
      "outputs": []
    },
    {
      "cell_type": "code",
      "source": [
        "# 한 번에 객체를 적합 및 변환하고 카테고리 출력\n",
        "out_enc = enc.fit_transform(df[cats])\n",
        "\n",
        "new_cols = enc.get_feature_names(cats).tolist()\n",
        "print(new_cols)"
      ],
      "metadata": {
        "colab": {
          "base_uri": "https://localhost:8080/"
        },
        "id": "aAUfttor0N1c",
        "outputId": "a50cc3bd-e74a-4c5e-b4ec-5c7fc0c4a009"
      },
      "execution_count": null,
      "outputs": [
        {
          "output_type": "stream",
          "name": "stdout",
          "text": [
            "['Jersey Size_0.0', 'Jersey Size_1.0', 'Jersey Size_2.0', 'Shoe Size_0.0', 'Shoe Size_1.0', 'Shoe Size_2.0', 'Shoe Size_3.0']\n"
          ]
        },
        {
          "output_type": "stream",
          "name": "stderr",
          "text": [
            "/usr/local/lib/python3.7/dist-packages/sklearn/utils/deprecation.py:87: FutureWarning: Function get_feature_names is deprecated; get_feature_names is deprecated in 1.0 and will be removed in 1.2. Please use get_feature_names_out instead.\n",
            "  warnings.warn(msg, category=FutureWarning)\n"
          ]
        }
      ]
    },
    {
      "cell_type": "code",
      "source": [
        "# 소스 열을 새로운 원핫 특징으로 바꿔주기\n",
        "# cats 리스트에서 원래열을 제거하고 소스에 있는 임시 데이터프레임의 값들을 연결해 그 작업 수행\n"
      ],
      "metadata": {
        "id": "zE_OQLDI0aEt"
      },
      "execution_count": null,
      "outputs": []
    },
    {
      "cell_type": "code",
      "source": [
        "# 원래 데이터와 연결된 임시 데이터프레임 df_enc를 생성\n",
        "df_enc = pd.DataFrame(data = out_enc, columns = new_cols)\n",
        "df_enc.index = df.index"
      ],
      "metadata": {
        "id": "y7k8MRSw0ry6"
      },
      "execution_count": null,
      "outputs": []
    },
    {
      "cell_type": "code",
      "source": [
        "# 원래 열을 삭제하고 새로운 열과 연결시킴\n",
        "df.drop(cats,axis = 1, inplace = True)\n",
        "df = pd.concat([df,df_enc], axis = 1)\n",
        "print(df.columns)"
      ],
      "metadata": {
        "colab": {
          "base_uri": "https://localhost:8080/"
        },
        "id": "UI9KeUhl03VY",
        "outputId": "8e254382-6c96-4a1c-f5bb-fdd807cd89c9"
      },
      "execution_count": null,
      "outputs": [
        {
          "output_type": "stream",
          "name": "stdout",
          "text": [
            "Index(['Age', 'Height', 'Weight', 'Training Hours/week', 'Jersey Color',\n",
            "       'Long Jump', 'Jersey Size_0.0', 'Jersey Size_1.0', 'Jersey Size_2.0',\n",
            "       'Shoe Size_0.0', 'Shoe Size_1.0', 'Shoe Size_2.0', 'Shoe Size_3.0'],\n",
            "      dtype='object')\n"
          ]
        }
      ]
    },
    {
      "cell_type": "markdown",
      "source": [
        "#### 레이블 인코딩\n",
        " 정수 혹은 문자열 입력에서 작동"
      ],
      "metadata": {
        "id": "hRAylH6p1mhe"
      }
    },
    {
      "cell_type": "code",
      "source": [
        "# 모듈을 import하고 enc 객체 초기화\n",
        "from sklearn import preprocessing\n",
        "enc = preprocessing.LabelEncoder()"
      ],
      "metadata": {
        "id": "2tBFvBaa1NFY"
      },
      "execution_count": null,
      "outputs": []
    },
    {
      "cell_type": "code",
      "source": [
        "# 정수 레이블로 적합시키고 변환\n",
        "out_enc = enc.fit_transform([1,2,5,2,4,2,5])\n",
        "print(out_enc)"
      ],
      "metadata": {
        "colab": {
          "base_uri": "https://localhost:8080/"
        },
        "id": "Okx1l2Xe1y1E",
        "outputId": "2d79503a-2ad6-4bb8-931f-9a5383af9123"
      },
      "execution_count": null,
      "outputs": [
        {
          "output_type": "stream",
          "name": "stdout",
          "text": [
            "[0 1 3 1 2 1 3]\n"
          ]
        }
      ]
    },
    {
      "cell_type": "code",
      "source": [
        "# 문자열 레이블로 적합시키고 변환\n",
        "out_enc = enc.fit_transform([\"blue\",\"red\",'blue','green','red','red'])\n",
        "print(out_enc)"
      ],
      "metadata": {
        "colab": {
          "base_uri": "https://localhost:8080/"
        },
        "id": "7oIW4d1q19H0",
        "outputId": "f541e71b-9ca3-4630-bcdb-cccddd41057c"
      },
      "execution_count": null,
      "outputs": [
        {
          "output_type": "stream",
          "name": "stdout",
          "text": [
            "[0 2 0 1 2 2]\n"
          ]
        }
      ]
    },
    {
      "cell_type": "markdown",
      "source": [
        "### * 고차원 데이터\n",
        "특징 공간의 통계적으로 유의미한 표현에서 차원 수가 증가함에 따라 사례의 수는 기하급수적으로 증가\n",
        "\n",
        "\n",
        "차원 수의 증가에 맞춰서 사례의 수를 증가시키지 못하는 것은 데이터가 희박해지게 만들고 실제를 반영하기 어렵게 한다"
      ],
      "metadata": {
        "id": "XPPwYYoY2UoO"
      }
    },
    {
      "cell_type": "markdown",
      "source": [
        "### * 차원 감소\n",
        "전략 \n",
        " - 선택 ) 가장 좋은 특징을 선택하고 나머지를 제거\n",
        " - 변환 ) 원래 특징들의 결합을 요약하는 새로운 특징을 생성"
      ],
      "metadata": {
        "id": "acoAyvoc2i5V"
      }
    },
    {
      "cell_type": "markdown",
      "source": [
        "#### 특징 선택\n",
        "2가지의 전략으로 이뤄짐\n",
        " - ' 특징 필터링 ' \n",
        " - ' 래퍼 wrapper 기법 ' : 특징의 부분집합으로 여러 개의 미니 모델 생성, 가장 좋은 결과 보여주는 것을 점수화한다"
      ],
      "metadata": {
        "id": "CIlZ-90D23v3"
      }
    },
    {
      "cell_type": "markdown",
      "source": [
        "##### - 특징 필터링 )\n",
        " ex) 목표가 '중요성을 점수화하는 방법' 찾는 것이라면, 가장 중요한 것만 보유하기\n",
        " - 가장 흔한 방법 : **\"분산 한계점\"을 정의하고 \"상관계수\"에 의해 정렬**\n",
        "\n",
        "        * 분산한게점 \n",
        "         한계점을 설정하고 그 값 아래에 있는 특징들을 제거하는 것\n",
        "         이를 활용하기 위해 '사전적합'해보기 -> 사전적합을 할때에는 한계점 설정X\n",
        "         1. 한계점 없이 사전적합\n",
        "         2. 분산의 분석\n",
        "         3. 한계점 선택\n",
        "         4. 선택된 한계점을 가지고 재적합\n",
        "\n",
        "```\n",
        "# 코드로 형식 지정됨\n",
        "```\n",
        "\n",
        "\n"
      ],
      "metadata": {
        "id": "tMQjr_HD3G-W"
      }
    },
    {
      "cell_type": "code",
      "source": [
        "|# iris 데이터 불러오기 \n",
        "df = pd.read_csv('/content/drive/MyDrive/dmdata/iris.csv')\n",
        "df.index.name = 'record'\n",
        "\n",
        "# 필터 적용할 열 정의\n",
        "cols = ['sepal length in cm', \n",
        "      'sepal width in cm',\n",
        "      'petal length in cm',\n",
        "      'petal width in cm']                                                                                                                                      "
      ],
      "metadata": {
        "id": "DhPPZBFB2Sx-"
      },
      "execution_count": null,
      "outputs": []
    },
    {
      "cell_type": "code",
      "source": [
        "\n",
        "# 한계점 없이 scikit-learn 객체 초기화\n",
        "from sklearn.feature_selection import VarianceThreshold\n",
        "selector = VarianceThreshold()\n",
        "\n",
        "# df[cols] 사전적합\n",
        "selector.fit(df[cols])\n",
        "\n",
        "# 선택 이전에 특징 분산 점검\n",
        "print(selector.variances_)"
      ],
      "metadata": {
        "colab": {
          "base_uri": "https://localhost:8080/"
        },
        "id": "Mc0nQdNF4SsX",
        "outputId": "bbe8b43f-90fc-4a61-c61f-e61ba949eca6"
      },
      "execution_count": null,
      "outputs": [
        {
          "output_type": "stream",
          "name": "stdout",
          "text": [
            "[0.68112222 0.18675067 3.09242489 0.57853156]\n"
          ]
        }
      ]
    },
    {
      "cell_type": "code",
      "source": [
        "# 선택 객체의 한계치 설정\n",
        "selector.set_params(threshold = 0.6)\n",
        "\n",
        "# 재적합 및 변환 후 out_sel에 결과 저장\n",
        "out_sel = selector.fit_transform(df[cols])\n",
        "\n",
        "# 선택된 특징 점검\n",
        "print(selector.get_support())"
      ],
      "metadata": {
        "colab": {
          "base_uri": "https://localhost:8080/"
        },
        "id": "NRXaccEU4bmf",
        "outputId": "488982b8-4063-49ed-93b3-4898a59021f9"
      },
      "execution_count": null,
      "outputs": [
        {
          "output_type": "stream",
          "name": "stdout",
          "text": [
            "[ True False  True False]\n"
          ]
        }
      ]
    },
    {
      "cell_type": "code",
      "source": [
        "# 선택된 특징 필터 적용\n",
        "\n",
        "df_sel = df.iloc[:,selector.get_support()]\n",
        "\n",
        "# 새로운 데이터프레임에 레이블을 추가하고 점검\n",
        "df_sel = pd.concat([df_sel,df[['species']]], axis = 1)\n",
        "\n",
        "print(df_sel.head())"
      ],
      "metadata": {
        "colab": {
          "base_uri": "https://localhost:8080/",
          "height": 396
        },
        "id": "-T-qk3cp4zVO",
        "outputId": "cde350f2-4a35-4253-b11c-2eacae2bceda"
      },
      "execution_count": null,
      "outputs": [
        {
          "output_type": "error",
          "ename": "IndexError",
          "evalue": "ignored",
          "traceback": [
            "\u001b[0;31m---------------------------------------------------------------------------\u001b[0m",
            "\u001b[0;31mIndexError\u001b[0m                                Traceback (most recent call last)",
            "\u001b[0;32m<ipython-input-52-dd2c2b7a7dd4>\u001b[0m in \u001b[0;36m<module>\u001b[0;34m()\u001b[0m\n\u001b[1;32m      1\u001b[0m \u001b[0;31m# 선택된 특징 필터 적용\u001b[0m\u001b[0;34m\u001b[0m\u001b[0;34m\u001b[0m\u001b[0;34m\u001b[0m\u001b[0m\n\u001b[1;32m      2\u001b[0m \u001b[0;34m\u001b[0m\u001b[0m\n\u001b[0;32m----> 3\u001b[0;31m \u001b[0mdf_sel\u001b[0m \u001b[0;34m=\u001b[0m \u001b[0mdf\u001b[0m\u001b[0;34m.\u001b[0m\u001b[0miloc\u001b[0m\u001b[0;34m[\u001b[0m\u001b[0;34m:\u001b[0m\u001b[0;34m,\u001b[0m\u001b[0mselector\u001b[0m\u001b[0;34m.\u001b[0m\u001b[0mget_support\u001b[0m\u001b[0;34m(\u001b[0m\u001b[0;34m)\u001b[0m\u001b[0;34m]\u001b[0m\u001b[0;34m\u001b[0m\u001b[0;34m\u001b[0m\u001b[0m\n\u001b[0m\u001b[1;32m      4\u001b[0m \u001b[0;34m\u001b[0m\u001b[0m\n\u001b[1;32m      5\u001b[0m \u001b[0;31m# 새로운 데이터프레임에 레이블을 추가하고 점검\u001b[0m\u001b[0;34m\u001b[0m\u001b[0;34m\u001b[0m\u001b[0;34m\u001b[0m\u001b[0m\n",
            "\u001b[0;32m/usr/local/lib/python3.7/dist-packages/pandas/core/indexing.py\u001b[0m in \u001b[0;36m__getitem__\u001b[0;34m(self, key)\u001b[0m\n\u001b[1;32m    923\u001b[0m                 \u001b[0;32mwith\u001b[0m \u001b[0msuppress\u001b[0m\u001b[0;34m(\u001b[0m\u001b[0mKeyError\u001b[0m\u001b[0;34m,\u001b[0m \u001b[0mIndexError\u001b[0m\u001b[0;34m)\u001b[0m\u001b[0;34m:\u001b[0m\u001b[0;34m\u001b[0m\u001b[0;34m\u001b[0m\u001b[0m\n\u001b[1;32m    924\u001b[0m                     \u001b[0;32mreturn\u001b[0m \u001b[0mself\u001b[0m\u001b[0;34m.\u001b[0m\u001b[0mobj\u001b[0m\u001b[0;34m.\u001b[0m\u001b[0m_get_value\u001b[0m\u001b[0;34m(\u001b[0m\u001b[0;34m*\u001b[0m\u001b[0mkey\u001b[0m\u001b[0;34m,\u001b[0m \u001b[0mtakeable\u001b[0m\u001b[0;34m=\u001b[0m\u001b[0mself\u001b[0m\u001b[0;34m.\u001b[0m\u001b[0m_takeable\u001b[0m\u001b[0;34m)\u001b[0m\u001b[0;34m\u001b[0m\u001b[0;34m\u001b[0m\u001b[0m\n\u001b[0;32m--> 925\u001b[0;31m             \u001b[0;32mreturn\u001b[0m \u001b[0mself\u001b[0m\u001b[0;34m.\u001b[0m\u001b[0m_getitem_tuple\u001b[0m\u001b[0;34m(\u001b[0m\u001b[0mkey\u001b[0m\u001b[0;34m)\u001b[0m\u001b[0;34m\u001b[0m\u001b[0;34m\u001b[0m\u001b[0m\n\u001b[0m\u001b[1;32m    926\u001b[0m         \u001b[0;32melse\u001b[0m\u001b[0;34m:\u001b[0m\u001b[0;34m\u001b[0m\u001b[0;34m\u001b[0m\u001b[0m\n\u001b[1;32m    927\u001b[0m             \u001b[0;31m# we by definition only have the 0th axis\u001b[0m\u001b[0;34m\u001b[0m\u001b[0;34m\u001b[0m\u001b[0;34m\u001b[0m\u001b[0m\n",
            "\u001b[0;32m/usr/local/lib/python3.7/dist-packages/pandas/core/indexing.py\u001b[0m in \u001b[0;36m_getitem_tuple\u001b[0;34m(self, tup)\u001b[0m\n\u001b[1;32m   1508\u001b[0m             \u001b[0;32mreturn\u001b[0m \u001b[0mself\u001b[0m\u001b[0;34m.\u001b[0m\u001b[0m_getitem_lowerdim\u001b[0m\u001b[0;34m(\u001b[0m\u001b[0mtup\u001b[0m\u001b[0;34m)\u001b[0m\u001b[0;34m\u001b[0m\u001b[0;34m\u001b[0m\u001b[0m\n\u001b[1;32m   1509\u001b[0m \u001b[0;34m\u001b[0m\u001b[0m\n\u001b[0;32m-> 1510\u001b[0;31m         \u001b[0;32mreturn\u001b[0m \u001b[0mself\u001b[0m\u001b[0;34m.\u001b[0m\u001b[0m_getitem_tuple_same_dim\u001b[0m\u001b[0;34m(\u001b[0m\u001b[0mtup\u001b[0m\u001b[0;34m)\u001b[0m\u001b[0;34m\u001b[0m\u001b[0;34m\u001b[0m\u001b[0m\n\u001b[0m\u001b[1;32m   1511\u001b[0m \u001b[0;34m\u001b[0m\u001b[0m\n\u001b[1;32m   1512\u001b[0m     \u001b[0;32mdef\u001b[0m \u001b[0m_get_list_axis\u001b[0m\u001b[0;34m(\u001b[0m\u001b[0mself\u001b[0m\u001b[0;34m,\u001b[0m \u001b[0mkey\u001b[0m\u001b[0;34m,\u001b[0m \u001b[0maxis\u001b[0m\u001b[0;34m:\u001b[0m \u001b[0mint\u001b[0m\u001b[0;34m)\u001b[0m\u001b[0;34m:\u001b[0m\u001b[0;34m\u001b[0m\u001b[0;34m\u001b[0m\u001b[0m\n",
            "\u001b[0;32m/usr/local/lib/python3.7/dist-packages/pandas/core/indexing.py\u001b[0m in \u001b[0;36m_getitem_tuple_same_dim\u001b[0;34m(self, tup)\u001b[0m\n\u001b[1;32m    804\u001b[0m                 \u001b[0;32mcontinue\u001b[0m\u001b[0;34m\u001b[0m\u001b[0;34m\u001b[0m\u001b[0m\n\u001b[1;32m    805\u001b[0m \u001b[0;34m\u001b[0m\u001b[0m\n\u001b[0;32m--> 806\u001b[0;31m             \u001b[0mretval\u001b[0m \u001b[0;34m=\u001b[0m \u001b[0mgetattr\u001b[0m\u001b[0;34m(\u001b[0m\u001b[0mretval\u001b[0m\u001b[0;34m,\u001b[0m \u001b[0mself\u001b[0m\u001b[0;34m.\u001b[0m\u001b[0mname\u001b[0m\u001b[0;34m)\u001b[0m\u001b[0;34m.\u001b[0m\u001b[0m_getitem_axis\u001b[0m\u001b[0;34m(\u001b[0m\u001b[0mkey\u001b[0m\u001b[0;34m,\u001b[0m \u001b[0maxis\u001b[0m\u001b[0;34m=\u001b[0m\u001b[0mi\u001b[0m\u001b[0;34m)\u001b[0m\u001b[0;34m\u001b[0m\u001b[0;34m\u001b[0m\u001b[0m\n\u001b[0m\u001b[1;32m    807\u001b[0m             \u001b[0;31m# We should never have retval.ndim < self.ndim, as that should\u001b[0m\u001b[0;34m\u001b[0m\u001b[0;34m\u001b[0m\u001b[0;34m\u001b[0m\u001b[0m\n\u001b[1;32m    808\u001b[0m             \u001b[0;31m#  be handled by the _getitem_lowerdim call above.\u001b[0m\u001b[0;34m\u001b[0m\u001b[0;34m\u001b[0m\u001b[0;34m\u001b[0m\u001b[0m\n",
            "\u001b[0;32m/usr/local/lib/python3.7/dist-packages/pandas/core/indexing.py\u001b[0m in \u001b[0;36m_getitem_axis\u001b[0;34m(self, key, axis)\u001b[0m\n\u001b[1;32m   1551\u001b[0m         \u001b[0;32mif\u001b[0m \u001b[0mcom\u001b[0m\u001b[0;34m.\u001b[0m\u001b[0mis_bool_indexer\u001b[0m\u001b[0;34m(\u001b[0m\u001b[0mkey\u001b[0m\u001b[0;34m)\u001b[0m\u001b[0;34m:\u001b[0m\u001b[0;34m\u001b[0m\u001b[0;34m\u001b[0m\u001b[0m\n\u001b[1;32m   1552\u001b[0m             \u001b[0mself\u001b[0m\u001b[0;34m.\u001b[0m\u001b[0m_validate_key\u001b[0m\u001b[0;34m(\u001b[0m\u001b[0mkey\u001b[0m\u001b[0;34m,\u001b[0m \u001b[0maxis\u001b[0m\u001b[0;34m)\u001b[0m\u001b[0;34m\u001b[0m\u001b[0;34m\u001b[0m\u001b[0m\n\u001b[0;32m-> 1553\u001b[0;31m             \u001b[0;32mreturn\u001b[0m \u001b[0mself\u001b[0m\u001b[0;34m.\u001b[0m\u001b[0m_getbool_axis\u001b[0m\u001b[0;34m(\u001b[0m\u001b[0mkey\u001b[0m\u001b[0;34m,\u001b[0m \u001b[0maxis\u001b[0m\u001b[0;34m=\u001b[0m\u001b[0maxis\u001b[0m\u001b[0;34m)\u001b[0m\u001b[0;34m\u001b[0m\u001b[0;34m\u001b[0m\u001b[0m\n\u001b[0m\u001b[1;32m   1554\u001b[0m \u001b[0;34m\u001b[0m\u001b[0m\n\u001b[1;32m   1555\u001b[0m         \u001b[0;31m# a list of integers\u001b[0m\u001b[0;34m\u001b[0m\u001b[0;34m\u001b[0m\u001b[0;34m\u001b[0m\u001b[0m\n",
            "\u001b[0;32m/usr/local/lib/python3.7/dist-packages/pandas/core/indexing.py\u001b[0m in \u001b[0;36m_getbool_axis\u001b[0;34m(self, key, axis)\u001b[0m\n\u001b[1;32m    946\u001b[0m         \u001b[0;31m# caller is responsible for ensuring non-None axis\u001b[0m\u001b[0;34m\u001b[0m\u001b[0;34m\u001b[0m\u001b[0;34m\u001b[0m\u001b[0m\n\u001b[1;32m    947\u001b[0m         \u001b[0mlabels\u001b[0m \u001b[0;34m=\u001b[0m \u001b[0mself\u001b[0m\u001b[0;34m.\u001b[0m\u001b[0mobj\u001b[0m\u001b[0;34m.\u001b[0m\u001b[0m_get_axis\u001b[0m\u001b[0;34m(\u001b[0m\u001b[0maxis\u001b[0m\u001b[0;34m)\u001b[0m\u001b[0;34m\u001b[0m\u001b[0;34m\u001b[0m\u001b[0m\n\u001b[0;32m--> 948\u001b[0;31m         \u001b[0mkey\u001b[0m \u001b[0;34m=\u001b[0m \u001b[0mcheck_bool_indexer\u001b[0m\u001b[0;34m(\u001b[0m\u001b[0mlabels\u001b[0m\u001b[0;34m,\u001b[0m \u001b[0mkey\u001b[0m\u001b[0;34m)\u001b[0m\u001b[0;34m\u001b[0m\u001b[0;34m\u001b[0m\u001b[0m\n\u001b[0m\u001b[1;32m    949\u001b[0m         \u001b[0minds\u001b[0m \u001b[0;34m=\u001b[0m \u001b[0mkey\u001b[0m\u001b[0;34m.\u001b[0m\u001b[0mnonzero\u001b[0m\u001b[0;34m(\u001b[0m\u001b[0;34m)\u001b[0m\u001b[0;34m[\u001b[0m\u001b[0;36m0\u001b[0m\u001b[0;34m]\u001b[0m\u001b[0;34m\u001b[0m\u001b[0;34m\u001b[0m\u001b[0m\n\u001b[1;32m    950\u001b[0m         \u001b[0;32mreturn\u001b[0m \u001b[0mself\u001b[0m\u001b[0;34m.\u001b[0m\u001b[0mobj\u001b[0m\u001b[0;34m.\u001b[0m\u001b[0m_take_with_is_copy\u001b[0m\u001b[0;34m(\u001b[0m\u001b[0minds\u001b[0m\u001b[0;34m,\u001b[0m \u001b[0maxis\u001b[0m\u001b[0;34m=\u001b[0m\u001b[0maxis\u001b[0m\u001b[0;34m)\u001b[0m\u001b[0;34m\u001b[0m\u001b[0;34m\u001b[0m\u001b[0m\n",
            "\u001b[0;32m/usr/local/lib/python3.7/dist-packages/pandas/core/indexing.py\u001b[0m in \u001b[0;36mcheck_bool_indexer\u001b[0;34m(index, key)\u001b[0m\n\u001b[1;32m   2399\u001b[0m         \u001b[0;31m# key may contain nan elements, check_array_indexer needs bool array\u001b[0m\u001b[0;34m\u001b[0m\u001b[0;34m\u001b[0m\u001b[0;34m\u001b[0m\u001b[0m\n\u001b[1;32m   2400\u001b[0m         \u001b[0mresult\u001b[0m \u001b[0;34m=\u001b[0m \u001b[0mpd_array\u001b[0m\u001b[0;34m(\u001b[0m\u001b[0mresult\u001b[0m\u001b[0;34m,\u001b[0m \u001b[0mdtype\u001b[0m\u001b[0;34m=\u001b[0m\u001b[0mbool\u001b[0m\u001b[0;34m)\u001b[0m\u001b[0;34m\u001b[0m\u001b[0;34m\u001b[0m\u001b[0m\n\u001b[0;32m-> 2401\u001b[0;31m     \u001b[0;32mreturn\u001b[0m \u001b[0mcheck_array_indexer\u001b[0m\u001b[0;34m(\u001b[0m\u001b[0mindex\u001b[0m\u001b[0;34m,\u001b[0m \u001b[0mresult\u001b[0m\u001b[0;34m)\u001b[0m\u001b[0;34m\u001b[0m\u001b[0;34m\u001b[0m\u001b[0m\n\u001b[0m\u001b[1;32m   2402\u001b[0m \u001b[0;34m\u001b[0m\u001b[0m\n\u001b[1;32m   2403\u001b[0m \u001b[0;34m\u001b[0m\u001b[0m\n",
            "\u001b[0;32m/usr/local/lib/python3.7/dist-packages/pandas/core/indexers.py\u001b[0m in \u001b[0;36mcheck_array_indexer\u001b[0;34m(array, indexer)\u001b[0m\n\u001b[1;32m    560\u001b[0m         \u001b[0;32mif\u001b[0m \u001b[0mlen\u001b[0m\u001b[0;34m(\u001b[0m\u001b[0mindexer\u001b[0m\u001b[0;34m)\u001b[0m \u001b[0;34m!=\u001b[0m \u001b[0mlen\u001b[0m\u001b[0;34m(\u001b[0m\u001b[0marray\u001b[0m\u001b[0;34m)\u001b[0m\u001b[0;34m:\u001b[0m\u001b[0;34m\u001b[0m\u001b[0;34m\u001b[0m\u001b[0m\n\u001b[1;32m    561\u001b[0m             raise IndexError(\n\u001b[0;32m--> 562\u001b[0;31m                 \u001b[0;34mf\"Boolean index has wrong length: \"\u001b[0m\u001b[0;34m\u001b[0m\u001b[0;34m\u001b[0m\u001b[0m\n\u001b[0m\u001b[1;32m    563\u001b[0m                 \u001b[0;34mf\"{len(indexer)} instead of {len(array)}\"\u001b[0m\u001b[0;34m\u001b[0m\u001b[0;34m\u001b[0m\u001b[0m\n\u001b[1;32m    564\u001b[0m             )\n",
            "\u001b[0;31mIndexError\u001b[0m: Boolean index has wrong length: 4 instead of 5"
          ]
        }
      ]
    },
    {
      "cell_type": "markdown",
      "source": [
        "##### - 상관계수 )\n",
        " 상관성 : 두 변수 간 일치성의 강도\n",
        "\n",
        " \n",
        " 피어슨의 r 상관계수는 가장 흔히 사용되는 상관성 지표 \n",
        "            \n",
        "           1,-1 : 가장 강한 양의 상관관계 or 음의 상관관계\n",
        "           0 : 두 변수 사이의 상관관계가 낮음\n",
        "\n",
        "pandas의 .corr() 기법, seaborn 의 히트맵 -> 시각적으로 복수의 r 상관계수 한번에 분석 가능, \n",
        "가장 높은 상관관계를 갖는 특징 필터링"
      ],
      "metadata": {
        "id": "C7j6Y_SzUoCa"
      }
    },
    {
      "cell_type": "code",
      "source": [
        "# 컬러맵을 사용하기 위해 matplotlib import\n",
        "import matplotlib.pyplot as plt\n",
        "\n",
        "# boston 데이터 로딩하기\n",
        "from sklearn.datasets import load_boston\n",
        "dataset = load_boston()\n",
        "df = pd.DataFrame(dataset.data,columns = dataset.feature_names)\n",
        "df['MEDV'] = dataset.target; df.index.name = 'record'"
      ],
      "metadata": {
        "colab": {
          "base_uri": "https://localhost:8080/"
        },
        "id": "GQSAxOz35jmI",
        "outputId": "da75e8d1-9056-4dd5-e522-fc154a113946"
      },
      "execution_count": null,
      "outputs": [
        {
          "output_type": "stream",
          "name": "stderr",
          "text": [
            "/usr/local/lib/python3.7/dist-packages/sklearn/utils/deprecation.py:87: FutureWarning: Function load_boston is deprecated; `load_boston` is deprecated in 1.0 and will be removed in 1.2.\n",
            "\n",
            "    The Boston housing prices dataset has an ethical problem. You can refer to\n",
            "    the documentation of this function for further details.\n",
            "\n",
            "    The scikit-learn maintainers therefore strongly discourage the use of this\n",
            "    dataset unless the purpose of the code is to study and educate about\n",
            "    ethical issues in data science and machine learning.\n",
            "\n",
            "    In this special case, you can fetch the dataset from the original\n",
            "    source::\n",
            "\n",
            "        import pandas as pd\n",
            "        import numpy as np\n",
            "\n",
            "\n",
            "        data_url = \"http://lib.stat.cmu.edu/datasets/boston\"\n",
            "        raw_df = pd.read_csv(data_url, sep=\"\\s+\", skiprows=22, header=None)\n",
            "        data = np.hstack([raw_df.values[::2, :], raw_df.values[1::2, :2]])\n",
            "        target = raw_df.values[1::2, 2]\n",
            "\n",
            "    Alternative datasets include the California housing dataset (i.e.\n",
            "    :func:`~sklearn.datasets.fetch_california_housing`) and the Ames housing\n",
            "    dataset. You can load the datasets as follows::\n",
            "\n",
            "        from sklearn.datasets import fetch_california_housing\n",
            "        housing = fetch_california_housing()\n",
            "\n",
            "    for the California housing dataset and::\n",
            "\n",
            "        from sklearn.datasets import fetch_openml\n",
            "        housing = fetch_openml(name=\"house_prices\", as_frame=True)\n",
            "\n",
            "    for the Ames housing dataset.\n",
            "    \n",
            "  warnings.warn(msg, category=FutureWarning)\n"
          ]
        }
      ]
    },
    {
      "cell_type": "code",
      "source": [
        "import seaborn as sns\n",
        "\n",
        "# pandas의 corr() 을 사용해서 상관계수 구하기\n",
        "cor = df.corr()\n",
        "\n",
        "#seaborn의 히트맵을 사용한 시각화\n",
        "sns.heatmap(cor, annot = False, cmap = plt.cm.Blues)\n",
        "plt.show()"
      ],
      "metadata": {
        "colab": {
          "base_uri": "https://localhost:8080/",
          "height": 301
        },
        "id": "wSUNGBy_V3Yh",
        "outputId": "c28fb325-eebf-40b3-d96d-5dce6e288621"
      },
      "execution_count": null,
      "outputs": [
        {
          "output_type": "display_data",
          "data": {
            "text/plain": [
              "<Figure size 432x288 with 2 Axes>"
            ],
            "image/png": "[encoded data removed]"
          },
          "metadata": {
            "needs_background": "light"
          }
        }
      ]
    },
    {
      "cell_type": "markdown",
      "source": [
        " - 위에서 대각선은 자신과의 쌍이므로 모두 r = 1\n",
        " - 간단하게 모든 상관관계를 분석하는 데 사용 가능\n",
        " - 복수의 결과 변수를 한 번에 비교하거나 상관관계가 높은 변수를 찾는 경우 유용\n",
        "\n",
        " "
      ],
      "metadata": {
        "id": "X_NTyn2PW6_T"
      }
    },
    {
      "cell_type": "code",
      "source": [
        "# 타깃 변수에 대한 상관계수 값 구하기\n",
        "cor_target= abs(cor['MEDV'])\n",
        "print(cor_target)"
      ],
      "metadata": {
        "colab": {
          "base_uri": "https://localhost:8080/"
        },
        "id": "e8RmvR6UWh2Y",
        "outputId": "5cf1f60a-a984-4736-9412-ace47dab685b"
      },
      "execution_count": null,
      "outputs": [
        {
          "output_type": "stream",
          "name": "stdout",
          "text": [
            "CRIM       0.388305\n",
            "ZN         0.360445\n",
            "INDUS      0.483725\n",
            "CHAS       0.175260\n",
            "NOX        0.427321\n",
            "RM         0.695360\n",
            "AGE        0.376955\n",
            "DIS        0.249929\n",
            "RAD        0.381626\n",
            "TAX        0.468536\n",
            "PTRATIO    0.507787\n",
            "B          0.333461\n",
            "LSTAT      0.737663\n",
            "MEDV       1.000000\n",
            "Name: MEDV, dtype: float64\n"
          ]
        }
      ]
    },
    {
      "cell_type": "code",
      "source": [
        "# 한계점 0.6이상의 특징 선택\n",
        "selected_cols = cor_target[cor_target > 0.6]\n",
        "print(\"selected columns, correlation with target > 0.6\")\n",
        "print(selected_cols)\n",
        "\n",
        "# 선택된 특징 필터 적용\n",
        "df_sel = df[selected_cols.index]\n",
        "print(df_sel.head())"
      ],
      "metadata": {
        "colab": {
          "base_uri": "https://localhost:8080/"
        },
        "id": "B_4vucJRXY_X",
        "outputId": "eae6bace-30cf-4f1b-8fb0-0ae26728832f"
      },
      "execution_count": null,
      "outputs": [
        {
          "output_type": "stream",
          "name": "stdout",
          "text": [
            "selected columns, correlation with target > 0.6\n",
            "RM       0.695360\n",
            "LSTAT    0.737663\n",
            "MEDV     1.000000\n",
            "Name: MEDV, dtype: float64\n",
            "           RM  LSTAT  MEDV\n",
            "record                    \n",
            "0       6.575   4.98  24.0\n",
            "1       6.421   9.14  21.6\n",
            "2       7.185   4.03  34.7\n",
            "3       6.998   2.94  33.4\n",
            "4       7.147   5.33  36.2\n"
          ]
        }
      ]
    },
    {
      "cell_type": "markdown",
      "source": [
        "#### 래퍼기법\n",
        " 머신 러닝 예측 알고리즘을 사용해서 좋은 예측을 위한 **각 특징의 공헌도를 점수화함**\n",
        " - 순차적 버전 : 알고리즘 적합의 각 반복에서 특징 리스트를 업데이트함\n",
        "    - 업데이트의 방향은 상관 없다\n",
        "    - 즉, 0개의 특징에서 시작해 하나 혹은 그 이상씩 선택하거나 모든 특징에서 시작해 하나 혹은 그 이상씩 뺄 수 있다\n",
        "  "
      ],
      "metadata": {
        "id": "feMEcWFAX__z"
      }
    },
    {
      "cell_type": "markdown",
      "source": [
        "##### - 순차적 특징 선택 )\n",
        " 전방 순차 선택 or 후방 순차 선택 루틴을 사용\n",
        " - 그들이 점수화 함수를 결정하고 전략을 업데이트하는 루틴을 가리킴( 특징 +- )\n",
        "    - 그 루틴을 위해 커스텀 코드 작성\n",
        "    \n",
        "      -ex. 예측 알고리즘의 자동 점수화 ) scikit learn의 내장 반복적 특징 제거 기법\n"
      ],
      "metadata": {
        "id": "NxHcuMiuYYC8"
      }
    },
    {
      "cell_type": "code",
      "source": [
        "# iris 데이터 불러오기\n",
        "df = pd.read_csv(\"/content/drive/MyDrive/dmdata/iris.csv\"); df.index.name = 'record'"
      ],
      "metadata": {
        "id": "zEKyLHH1X2zF"
      },
      "execution_count": null,
      "outputs": []
    },
    {
      "cell_type": "code",
      "source": [
        "# 선택한 열 지정\n",
        "cols = [\n",
        "        'sepal length in cm', \n",
        "        'sepal width in cm', \n",
        "        'petal length in cm',\n",
        "        'petal width in cm',\n",
        "]"
      ],
      "metadata": {
        "id": "f4N-5CtnZKwh"
      },
      "execution_count": null,
      "outputs": []
    },
    {
      "cell_type": "code",
      "source": [
        "# 서포트 벡터 머신 분류기 (SVC)를 예제 RFE에서 추정기로 사용\n",
        "# RFE와 분류기 SVC에 대한 모듈 불러오기\n",
        "from sklearn.feature_selection import RFE\n",
        "from sklearn.svm import SVC\n",
        "\n",
        "# 독립변수를 X로, 종속 변수를 y로 지정\n",
        "X = df[cols]\n",
        "y = df['species']"
      ],
      "metadata": {
        "id": "E4QY4nVeZTLM"
      },
      "execution_count": null,
      "outputs": []
    },
    {
      "cell_type": "code",
      "source": [
        "# RFE 객체 생성, 각 픽셀의 랭킹 생성\n",
        "\n",
        "svc = SVC(kernel = 'linear', C = 1)\n",
        "                          # n_features_to_select = \"2\" : RFE 객체의 인수로 전달해서 객체는 2개의 특징 선택\n",
        "rfe = RFE(estimator = svc, n_features_to_select = 2, step = 1) \n",
        "rfe.fit(X,y)\n",
        "\n",
        "# 랭킹 출력\n",
        "print(cols)\n",
        "\n",
        "# 선택된 속성들은 1의 중요성을 갖는다 -> [3 2 1 1] 이라고 나왔으므로 petal length, petal width가 선택됨을 알 수 있다\n",
        "print(rfe.ranking_)"
      ],
      "metadata": {
        "colab": {
          "base_uri": "https://localhost:8080/"
        },
        "id": "K8QIPL8-Zqik",
        "outputId": "f96e02dd-082c-48c5-91ed-5451890d9b0f"
      },
      "execution_count": null,
      "outputs": [
        {
          "output_type": "stream",
          "name": "stdout",
          "text": [
            "['sepal length in cm', 'sepal width in cm', 'petal length in cm', 'petal width in cm']\n",
            "[3 2 1 1]\n"
          ]
        }
      ]
    },
    {
      "cell_type": "markdown",
      "source": [
        "### 변환\n",
        "데이터 차원을 감소시키는 흔한 전략 중 하나\n",
        "\n",
        "원래 데이터를 새롭게 변환시킬 새로운 차원이나 특징 벡터를 선택함\n",
        "- 한 방향에서 더 유용한 방향으로의 데이터 회전으로 생각할 수 있다\n",
        "- **어떻게 새로운 특징 벡터방향을 선택하느냐** 가 중요하다\n",
        "    - 둘다 supervised / unsupervised 인 경우 완전 확정적이고 타깃된 성질 가짐\n",
        "       - supervised ) 데이터에 레이블 포함\n",
        "       - unsupervised ) 포함 X \n",
        "\n",
        "- 회전 예제 ]\n",
        "  \n",
        "        오버헤드 프로젝터의 앞에서 손을 들고 있으며 관찰자에게 무엇이 보이는지 질문 \n",
        "\n",
        "        손을 여러 방향으로 회전한다고 생각하는 경우 관찰자들에게는 방향에 따라 비둘기, 토끼등 다양한 모습으로 보일 수 있다.\n",
        "\n",
        "  *즉, 데이터는 바뀌지 않았지만, 데이터를 회전 시킴으로썬 다운스트림 분석에서의 유용성이 바뀔수 있다*\n",
        "\n",
        "\n",
        "\n",
        "-\n",
        "- 새로운 특징 벡터 선택 ]\n",
        "    - 비감독 ) 목표 : 가능한 많은 정보 노출\n",
        "      \n",
        "      *특징 분산의 형태에서 정보 최대화하는 방향 찾고 데이터를 고분산의 공간으로 회전*\n",
        "\n",
        "    - 감독 ) \n",
        "    \n",
        "     *두클래스 레이블을 가장 차별하는 선* \n"
      ],
      "metadata": {
        "id": "fRjGrhUubQxZ"
      }
    },
    {
      "cell_type": "markdown",
      "source": [
        "#### - PCA\n",
        "비감독의 방법으로 데이터의 차원을 감소시키기 위해 사용됨\n",
        "\n",
        "-목표 : \n",
        "  1. 새로운 특징 벡터를 파악하고 \n",
        "  2. 데이터의 분산을 최대화  -> 데이터의 분산 최대화하는 새로운 특징 벡터 : **'고유벡터'**\n",
        "  3. 원래의 데이터를 새로운 공간에 투사하는 것 \n",
        "\n",
        "- 고유벡터\n",
        "    - 데이터의 주성분이 됨\n",
        "    - 덜 중요한 성분을 버리고 가장 중요한 성분만 가지고 있어서 '차원 감소'시 도움\n",
        "\n",
        "\n",
        "\n",
        "- scikit-learn 은 각 주요 성분의 중요성에 대해 순위를 매길 때 사용될 수 있는 explained_variable_ 속성 제공\n",
        "- 그 차원을 분산으로 정렬하고 특징들을 제거하기 위해 n_components 옵션 사용"
      ],
      "metadata": {
        "id": "njcnZUv-dPSs"
      }
    },
    {
      "cell_type": "code",
      "source": [
        "# 두 개의 결과 차원을 갖는 pca 객체 초기화\n",
        "from sklearn.decomposition import PCA\n",
        "pca = PCA(n_components = 2)\n",
        "\n",
        "# 두 개의 입력차원을 사용해서 적합 및 변환\n",
        "out_pca = pca.fit_transform(df[['petal length in cm','petal width in cm',]])\n",
        "\n",
        "# pca 결과 데이터프레임을 생성하고 'species' 레이블 명명\n",
        "df_pca =  pd.DataFrame(data = out_pca, columns = ['pca1','pca2'])\n",
        "df_pca = pd.concat([df_pca, df[['species']]],axis = 1)\n",
        "\n",
        "# pca 데이터 스캐터 플롯 생성\n",
        "sns.lmplot(x = 'pca1', y = 'pca2', hue = 'species', data = df_pca , fit_reg = False)"
      ],
      "metadata": {
        "colab": {
          "base_uri": "https://localhost:8080/",
          "height": 387
        },
        "id": "WAYqEQEAaoFH",
        "outputId": "13ef581d-932d-48a6-ef80-c86de31fb9ad"
      },
      "execution_count": null,
      "outputs": [
        {
          "output_type": "execute_result",
          "data": {
            "text/plain": [
              "<seaborn.axisgrid.FacetGrid at 0x7fbc580c5110>"
            ]
          },
          "metadata": {},
          "execution_count": 65
        },
        {
          "output_type": "display_data",
          "data": {
            "text/plain": [
              "<Figure size 444.75x360 with 1 Axes>"
            ],
            "image/png": "[encoded data removed]"
          },
          "metadata": {
            "needs_background": "light"
          }
        }
      ]
    },
    {
      "cell_type": "code",
      "source": [
        "# 각 원소에 의해 설명되는 분산 구하기\n",
        "print(pca.explained_variance_ratio_)"
      ],
      "metadata": {
        "colab": {
          "base_uri": "https://localhost:8080/"
        },
        "id": "239rpfP6jUVY",
        "outputId": "ec628c10-7e42-44d2-fc59-3174be252f45"
      },
      "execution_count": null,
      "outputs": [
        {
          "output_type": "stream",
          "name": "stdout",
          "text": [
            "[0.99019934 0.00980066]\n"
          ]
        }
      ]
    },
    {
      "cell_type": "markdown",
      "source": [
        "#### - LDA\n",
        "감독된 방법으로 데이터의 차원을 줄이는 데 사용\n",
        "- 목표 : \n",
        "  1. 각 그룹이나 클래스의 평균값을 계산\n",
        "  2. 각 클래스의 중심을 최대한 분리하거나 차별하는 새로운 차원을 찾아내는 것\n",
        "  3. 데이터가 새로운 공간으로 회전되고 사상됨\n",
        "\n",
        "- **판별식** : 분리를 최대화하는 새로운 특징 벡터\n",
        "    - 각 벡터는 자신과 자신외의 모든 다른 벡터를 비교하는 판별식 있음\n",
        "    "
      ],
      "metadata": {
        "id": "QVzptRrMkdog"
      }
    },
    {
      "cell_type": "code",
      "source": [
        "# 두 개의 결과 차원을 갖는 lda 객체 초기화\n",
        "from sklearn.discriminant_analysis import LinearDiscriminantAnalysis\n",
        "lda = LinearDiscriminantAnalysis(n_components = 2)\n",
        "\n",
        "# 두 개의 입력 차원을 사용한 적합 및 변환\n",
        "cols = ['sepal length in cm', 'sepal width in cm']\n",
        "lda.fit(df[cols], df['species'])\n",
        "out_lda = lda.transform(df[cols])\n",
        "\n",
        "# lda 결과 데이터프레임 생성 및 species 열 명명\n",
        "df_lda = pd.DataFrame(data = out_lda, columns = ['lda1', 'lda2'])\n",
        "df_lda = pd.concat([df_lda, df[['species']]],axis = 1)"
      ],
      "metadata": {
        "id": "cNuD524LkQJT"
      },
      "execution_count": null,
      "outputs": []
    },
    {
      "cell_type": "code",
      "source": [
        "\n"
      ],
      "metadata": {
        "id": "g2eA4Gxelo62"
      },
      "execution_count": null,
      "outputs": []
    }
  ]
}